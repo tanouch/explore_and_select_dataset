{
 "cells": [
  {
   "cell_type": "code",
   "execution_count": 1,
   "id": "2a3bcd23-e85a-432b-9df3-5f5a5f229d0c",
   "metadata": {},
   "outputs": [],
   "source": [
    "import ipywidgets as widgets\n",
    "from IPython.display import clear_output\n",
    "from explore_dataset_utils import show_a_subset_of_selected_dataset, create_interface_ipywidget"
   ]
  },
  {
   "cell_type": "markdown",
   "id": "b93963d1-3a04-42c4-aa0c-afbcadac8bb2",
   "metadata": {},
   "source": [
    "## Parameters"
   ]
  },
  {
   "cell_type": "code",
   "execution_count": 2,
   "id": "f69dd1e2-e82d-4bee-b02c-456f0e187493",
   "metadata": {},
   "outputs": [],
   "source": [
    "im_dir = \"/home/u.tanielian/US/img_emb\"\n",
    "txt_dir = \"/home/u.tanielian/US/text_emb\"\n",
    "metadata_dir = \"/home/u.tanielian/US/metadata\"\n",
    "output_folder = \"/home/u.tanielian/US/test_clip\"\n",
    "output_folder_images = \"/home/u.tanielian/US/test_images\"\n",
    "max_num_files_analysis = 1\n",
    "num_images_to_plot = 250\n",
    "save_parquet_files=False\n",
    "batch_size=35\n",
    "num_rows= 5\n",
    "num_columns = 7\n",
    "num_batches_to_show=3"
   ]
  },
  {
   "cell_type": "code",
   "execution_count": 4,
   "id": "5220e83b-5a13-46a1-b7af-b0ca6f57a9e0",
   "metadata": {},
   "outputs": [
    {
     "data": {
      "application/vnd.jupyter.widget-view+json": {
       "model_id": "54c76c69cc1148b3a04d03416bb72ea9",
       "version_major": 2,
       "version_minor": 0
      },
      "text/plain": [
       "VBox(children=(Checkbox(value=False, description='Query with text-im similarity', indent=False), Checkbox(valu…"
      ]
     },
     "metadata": {},
     "output_type": "display_data"
    }
   ],
   "source": [
    "def show_a_subset_of_selected_dataset_aux(query_with_text_im_similarity, \\\n",
    "                                          query_with_categories, \\\n",
    "                                          query_with_text_constraints, \\\n",
    "                                          categorie_constraints_with_prompt, \\\n",
    "                                          positive_constraints_with_prompt, \\\n",
    "                                          negative_constraints_with_prompt, \\\n",
    "                                          ratio_slider):\n",
    "    strategies = list()\n",
    "    if query_with_text_im_similarity:\n",
    "        strategies.append(\"image_vs_text_similarity\")\n",
    "    if query_with_categories:\n",
    "        strategies.append(\"text_categories\")\n",
    "    if query_with_text_constraints:\n",
    "        strategies.append(\"text_constraints\")\n",
    "    categories_prompt = categorie_constraints_with_prompt.split(\",\")\n",
    "    positive_constraints_prompt = positive_constraints_with_prompt.split(\",\")\n",
    "    negative_constraints_prompt = negative_constraints_with_prompt.split(\",\")\n",
    "\n",
    "    show_a_subset_of_selected_dataset(\n",
    "    im_dir, \\\n",
    "    txt_dir, \\\n",
    "    metadata_dir, \\\n",
    "    strategies, \\\n",
    "    output_folder, \\\n",
    "    output_folder_images, \\\n",
    "    ratio_slider, \\\n",
    "    categories_prompt, \\\n",
    "    positive_constraints_prompt, \\\n",
    "    negative_constraints_prompt, \\\n",
    "    max_num_files_analysis, \\\n",
    "    num_images_to_plot, \\\n",
    "    batch_size, \\\n",
    "    num_rows, \\\n",
    "    num_columns, \\\n",
    "    num_batches_to_show\n",
    "    )\n",
    "\n",
    "\n",
    "def on_button_clicked(_):\n",
    "    with out:\n",
    "        clear_output()\n",
    "        show_a_subset_of_selected_dataset_aux(query_with_text_im_similarity.value, \\\n",
    "                                              query_with_categories.value, \\\n",
    "                                              query_with_text_constraints.value, \\\n",
    "                                              categorie_constraints_with_prompt.value, \\\n",
    "                                              positive_constraints_with_prompt.value, \\\n",
    "                                              negative_constraints_with_prompt.value, \\\n",
    "                                              ratio_slider.value)\n",
    "        \n",
    "query_with_text_im_similarity, query_with_categories, query_with_text_constraints, \\\n",
    "    categorie_constraints_with_prompt, positive_constraints_with_prompt, \\\n",
    "    negative_constraints_with_prompt, \\\n",
    "    ratio_slider, \\\n",
    "    button, \\\n",
    "    out = create_interface_ipywidget()\n",
    "\n",
    "button.on_click(on_button_clicked)\n",
    "\n",
    "widgets.VBox([query_with_text_im_similarity, \\\n",
    "              query_with_categories, \\\n",
    "              query_with_text_constraints, \\\n",
    "              categorie_constraints_with_prompt, \\\n",
    "              positive_constraints_with_prompt, \\\n",
    "              negative_constraints_with_prompt, \\\n",
    "              ratio_slider, \\\n",
    "              button, \\\n",
    "              out])"
   ]
  },
  {
   "cell_type": "code",
   "execution_count": null,
   "id": "40c67aee-279d-4336-bed7-5ac0291e14c1",
   "metadata": {},
   "outputs": [],
   "source": []
  }
 ],
 "metadata": {
  "kernelspec": {
   "display_name": "ProductGen",
   "language": "python",
   "name": "venv"
  },
  "language_info": {
   "codemirror_mode": {
    "name": "ipython",
    "version": 3
   },
   "file_extension": ".py",
   "mimetype": "text/x-python",
   "name": "python",
   "nbconvert_exporter": "python",
   "pygments_lexer": "ipython3",
   "version": "3.6.8"
  }
 },
 "nbformat": 4,
 "nbformat_minor": 5
}
